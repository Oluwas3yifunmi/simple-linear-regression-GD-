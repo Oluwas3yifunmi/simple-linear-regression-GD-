{
 "cells": [
  {
   "cell_type": "code",
   "execution_count": null,
   "metadata": {},
   "outputs": [],
   "source": [
    "import numpy as np\n",
    "import pandas as pd\n",
    "import matplotlib.pyplot as plt\n",
    "import seaborn as sns\n",
    "import warnings\n",
    "warnings.filterwarnings('ignore')"
   ]
  },
  {
   "cell_type": "code",
   "execution_count": null,
   "metadata": {},
   "outputs": [],
   "source": [
    "salary= pd.read_csv(\"Salary_Data.csv\")"
   ]
  },
  {
   "cell_type": "code",
   "execution_count": null,
   "metadata": {},
   "outputs": [],
   "source": [
    "salary.describe()"
   ]
  },
  {
   "cell_type": "code",
   "execution_count": null,
   "metadata": {},
   "outputs": [],
   "source": [
    "salary['Position']= pd.cut(x=salary['YearsExperience'], bins=3, labels=['Entry', 'Junior', 'Senior'])"
   ]
  },
  {
   "cell_type": "code",
   "execution_count": null,
   "metadata": {},
   "outputs": [],
   "source": [
    "avgsalary= salary.groupby('Position', as_index=False)['Salary'].mean().reset_index(drop=True).rename(columns={'Salary':'Average Salary'})\n",
    "avgexperience= salary.groupby('Position', as_index=False)['YearsExperience'].mean().reset_index(drop=True).rename(columns= {'YearsExperience':'Average Experience'})"
   ]
  },
  {
   "cell_type": "code",
   "execution_count": null,
   "metadata": {},
   "outputs": [],
   "source": [
    "fig, ax= plt.subplots(2,2, figsize=(12,8))\n",
    "sns.countplot(data=salary, x='Position', ax=ax[0,0])\n",
    "ax[0,0].set_xlabel('Positions')\n",
    "ax[0,0].set_ylabel('Count')\n",
    "ax[0,0].set_title('Count of Positions')\n",
    "\n",
    "sns.scatterplot(data=salary, x='YearsExperience', y='Salary', ax= ax[0,1])\n",
    "ax[0,1].set_xlabel('Years of Experience')\n",
    "ax[0,1].set_ylabel('Salary')\n",
    "ax[0,1].set_title('Salary v Years of Experience Relational Plot')\n",
    "\n",
    "sns.barplot(x=avgexperience['Position'], y=avgexperience['Average Experience'], ax=ax[1,0]) # type: ignore\n",
    "ax[1,0].set_xlabel('Positions')\n",
    "ax[1,0].set_ylabel('Years of Experience')\n",
    "ax[1,0].set_title('Average Years of Experience per Position')\n",
    "\n",
    "sns.barplot(x=avgsalary['Position'], y=avgsalary['Average Salary'], ax=ax[1,1]) # type: ignore\n",
    "ax[1,1].set_xlabel('Positions')\n",
    "ax[1,1].set_ylabel('Salary')\n",
    "ax[1,1].set_title('Average Salary per Position')\n",
    "\n",
    "plt.tight_layout()\n",
    "plt.show()"
   ]
  },
  {
   "cell_type": "code",
   "execution_count": null,
   "metadata": {},
   "outputs": [],
   "source": [
    "x= np.array(salary['YearsExperience'])\n",
    "y= np.array(salary['Salary'])"
   ]
  },
  {
   "cell_type": "code",
   "execution_count": null,
   "metadata": {},
   "outputs": [],
   "source": [
    "def cost(x, y, w, b):\n",
    "    \"\"\"computes the cost of each training example\n",
    "\n",
    "    Args:\n",
    "        x (ndarray(m,)): data\n",
    "        y (ndarray(m,)): target values\n",
    "        w, b (scalar): parameters\n",
    "\n",
    "    Returns:\n",
    "        total_cost (float): the total sum of cost value for all training example\n",
    "    \"\"\"\n",
    "    m= x.shape[0]\n",
    "    cost= 0\n",
    "    for i in range(m):\n",
    "        fwb_x= np.dot(w,x[i]) + b\n",
    "        J= (fwb_x - y[i])**2\n",
    "        cost+= J\n",
    "    total_cost= cost/(2*m)\n",
    "    return total_cost"
   ]
  },
  {
   "cell_type": "code",
   "execution_count": null,
   "metadata": {},
   "outputs": [],
   "source": [
    "cst= cost(x, y, 0, 0)\n",
    "cst"
   ]
  },
  {
   "cell_type": "code",
   "execution_count": null,
   "metadata": {},
   "outputs": [],
   "source": [
    "def gradient(x, y, w, b):\n",
    "    \"\"\"computes the gradient w.r.t to each parameters\n",
    "\n",
    "    Args:\n",
    "        x (ndarray(m,)): data\n",
    "        y (ndarray(m,)): target values\n",
    "        w, b: parameters\n",
    "\n",
    "    Returns:\n",
    "        dj_dw, dj_db (scalar): the gradient w.r.t parameters w and b\n",
    "    \"\"\"\n",
    "    m= x.shape[0]\n",
    "    dj_dw= 0\n",
    "    dj_db= 0\n",
    "    for i in range(m):\n",
    "        fwb_x= (np.dot(w,x[i]) + b) - y[i]\n",
    "        dj_dwi= np.dot(fwb_x, x[i])\n",
    "        dj_dbi= fwb_x\n",
    "        dj_dw+= dj_dwi\n",
    "        dj_db+= dj_dbi\n",
    "    dj_dw= dj_dw/m\n",
    "    dj_db= dj_db/m\n",
    "    return dj_dw, dj_db"
   ]
  },
  {
   "cell_type": "code",
   "execution_count": null,
   "metadata": {},
   "outputs": [],
   "source": [
    "grads= gradient(x, y, 0, 0)\n",
    "grads"
   ]
  },
  {
   "cell_type": "code",
   "execution_count": null,
   "metadata": {},
   "outputs": [],
   "source": [
    "def gradient_descent(x, y, iterations, init_w, init_b, alpha):\n",
    "    \"\"\"computes the gradient descent for the model by updating parameters w and b over a number of iterations\n",
    "\n",
    "    Args:\n",
    "        x (ndarray): data\n",
    "        y (ndarray): target values\n",
    "        iterations (int): number of times to update the parameters\n",
    "        init_w, init_b (int): initial parameter values\n",
    "        alpha (float): model learning rate\n",
    "    \n",
    "    Returns:\n",
    "        w, b (scalar): final parameter values after running gradient descent\n",
    "        J_history (list): a list of cost changes over each iteration\n",
    "    \"\"\"\n",
    "    m= x.shape[0]\n",
    "    b= init_b\n",
    "    w= init_w\n",
    "    J_history= []\n",
    "    p_history= []\n",
    "    for i in range(iterations):\n",
    "        dj_dw, dj_db= gradient(x, y, w, b)\n",
    "        w= w - np.dot(alpha, dj_dw)\n",
    "        b= b - np.dot(alpha, dj_db)\n",
    "        J_history.append(cost(x, y, w, b))\n",
    "        p_history.append([w,b])\n",
    "        \n",
    "        if i % np.ceil(iterations / 10) == 0:\n",
    "            print(f'Iteration {i}:', f'Cost: {round(J_history[-1], 2)}', f'dj_dw: {round(dj_dw, 2)}', f'dj_db: {round(dj_db, 2)}',\n",
    "                  f'w: {round(w, 2)}', f'b: {round(b, 2)}')\n",
    "    return w, b, J_history"
   ]
  },
  {
   "cell_type": "code",
   "execution_count": null,
   "metadata": {},
   "outputs": [],
   "source": [
    "final_w, final_b, cost_history= gradient_descent(x, y, 100000, 0, 0, 0.001)"
   ]
  },
  {
   "cell_type": "code",
   "execution_count": null,
   "metadata": {},
   "outputs": [],
   "source": [
    "fig, (ax1, ax2) = plt.subplots(1, 2, constrained_layout=True, figsize=(12,4))\n",
    "ax1.plot(cost_history[:100])\n",
    "ax2.plot(1000 + np.arange(len(cost_history[1000:])), cost_history[1000:])\n",
    "ax1.set_title(\"Cost vs. iteration(start)\");  ax2.set_title(\"Cost vs. iteration (end)\")\n",
    "ax1.set_ylabel('Cost')            ;  ax2.set_ylabel('Cost') \n",
    "ax1.set_xlabel('iteration step')  ;  ax2.set_xlabel('iteration step') \n",
    "plt.show()"
   ]
  },
  {
   "cell_type": "code",
   "execution_count": null,
   "metadata": {},
   "outputs": [],
   "source": [
    "x_pred= []\n",
    "for i in range(x.shape[0]):\n",
    "    x_pred.append(np.dot(final_w, x[i]) + final_b)"
   ]
  },
  {
   "cell_type": "code",
   "execution_count": null,
   "metadata": {},
   "outputs": [],
   "source": [
    "plt.figure(figsize=(12,6))\n",
    "sns.scatterplot(x=salary['YearsExperience'], y= salary['Salary'])\n",
    "sns.lineplot(x=salary['YearsExperience'], y= x_pred)\n",
    "plt.title('Years of Experience v Salary Model Line Fit')\n",
    "plt.xlabel('Years of Experience')\n",
    "plt.ylabel('Salary')\n",
    "plt.show()"
   ]
  },
  {
   "cell_type": "code",
   "execution_count": null,
   "metadata": {},
   "outputs": [],
   "source": [
    "test= np.array([11,12,13,14,15])\n",
    "pred= []\n",
    "for i in range(len(test)):\n",
    "    pred.append(np.dot(final_w, test[i]) + final_b)\n",
    "for i in range(test.shape[0]):\n",
    "    print(f'Salary for {test[i]} years of experience is: {pred[i]}')"
   ]
  }
 ],
 "metadata": {
  "kernelspec": {
   "display_name": "seyi",
   "language": "python",
   "name": "python3"
  },
  "language_info": {
   "codemirror_mode": {
    "name": "ipython",
    "version": 3
   },
   "file_extension": ".py",
   "mimetype": "text/x-python",
   "name": "python",
   "nbconvert_exporter": "python",
   "pygments_lexer": "ipython3",
   "version": "3.11.5"
  }
 },
 "nbformat": 4,
 "nbformat_minor": 2
}
